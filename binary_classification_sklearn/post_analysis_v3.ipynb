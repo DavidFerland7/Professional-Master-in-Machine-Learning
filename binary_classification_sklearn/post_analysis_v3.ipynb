{
 "cells": [
  {
   "cell_type": "markdown",
   "metadata": {},
   "source": [
    "# IMPORTS"
   ]
  },
  {
   "cell_type": "code",
   "execution_count": 1,
   "metadata": {},
   "outputs": [],
   "source": [
    "from joblib import load\n",
    "from sklearn.metrics import confusion_matrix, classification_report, plot_confusion_matrix, accuracy_score, precision_recall_fscore_support\n",
    "import matplotlib.pyplot as plt\n",
    "import numpy as np\n",
    "import pandas as pd\n",
    "import os\n",
    "from sklearn.preprocessing import LabelEncoder, label_binarize\n",
    "from sklearn.base import BaseEstimator, TransformerMixin\n",
    "import itertools"
   ]
  },
  {
   "cell_type": "code",
   "execution_count": 2,
   "metadata": {},
   "outputs": [],
   "source": [
    "class FeatureExtractor(BaseEstimator, TransformerMixin):\n",
    "    def __init__(self):\n",
    "        pass\n",
    "\n",
    "    def get_feature_names(self):\n",
    "        return self.columns\n",
    "\n",
    "    def transform(self, df, y=None):\n",
    "\n",
    "        #### One-hot encode str variables #####\n",
    "        for var in _vars['features']['str'] + _vars['features']['other']:\n",
    "            #values in train and in test as well\n",
    "            df = df.assign(**{var: df[var].apply(lambda x: x.replace(' ','_'))})\n",
    "            df = pd.get_dummies(df, prefix= var, columns=[var])\n",
    "\n",
    "            #values in train but not in test\n",
    "            for col in getattr(self, \"dummy_values_\"+var):\n",
    "                if col not in df.columns:\n",
    "                    df[col] = 0\n",
    "\n",
    "            #values in test but not in train\n",
    "            for col in [c for c in df.columns.tolist() if c.startswith(var+\"_\")]:\n",
    "                if col not in getattr(self, \"dummy_values_\"+var):\n",
    "                    df.drop(columns=col, inplace=True)\n",
    "\n",
    "        #features from : ScheduledDay -> period of the day person has scheduled\n",
    "        var = 'ScheduledDay'\n",
    "        df[var + '_weekday'] = df[var].apply(lambda x: x.dayofweek)\n",
    "        df[var + '_hour_0-6'] = 0\n",
    "        df[var + '_hour_7-11'] = 0\n",
    "        df[var + '_hour_12-12'] = 0\n",
    "        df[var + '_hour_13-17'] = 0\n",
    "        df[var + '_hour_18-23'] = 0\n",
    "        df.loc[(df[var].apply(lambda x: 0 <= x.hour) & df[var].apply(lambda x: x.hour <= 6) ), var + '_hour_0-6'] = 1\n",
    "        df.loc[(df[var].apply(lambda x: 7 <= x.hour) & df[var].apply(lambda x: x.hour <= 11) ), var + '_hour_7-11'] = 1\n",
    "        df.loc[(df[var].apply(lambda x: 12 <= x.hour) & df[var].apply(lambda x: x.hour <= 12)), var + '_hour_12-12'] = 1\n",
    "        df.loc[(df[var].apply(lambda x: 13 <= x.hour) & df[var].apply(lambda x: x.hour <= 17)), var + '_hour_13-17'] = 1\n",
    "        df.loc[(df[var].apply(lambda x: 18 <= x.hour) & df[var].apply(lambda x: x.hour <= 23)), var + '_hour_18-23'] = 1\n",
    "    \n",
    "        #features from : AppointmentDay -> day of actual appointement\n",
    "        var = 'AppointmentDay'\n",
    "        df[var + '_weekday'] = df[var].apply(lambda x: x.dayofweek)\n",
    "        df[var + '_month'] = df[var].apply(lambda x: x.month)\n",
    "    \n",
    "    \n",
    "        #number of day between appointement and schedule day\n",
    "        df['number_days_before_appointment'] = np.maximum((df['AppointmentDay'].dt.date - df['ScheduledDay'].dt.date).dt.days, 0)\n",
    "\n",
    "        ## DROP ORIGINAL DATETIME VARIABLES\n",
    "        df.drop(columns=['ScheduledDay', 'AppointmentDay'], inplace=True)\n",
    "\n",
    "        #df.to_csv('valid_values_df.csv')\n",
    "        #print(\"data shape after feature extraction: {}\".format(df.shape))\n",
    "\n",
    "        #save columns header so we can retrieve them later with get_feature_names()\n",
    "        self.columns = df.columns.tolist()\n",
    "\n",
    "\n",
    "        return df\n",
    "\n",
    "    def fit(self, df, y=None):\n",
    "        \"\"\"Returns self (unless something different happens in train and test)\"\"\"\n",
    "\n",
    "        #one-hot encode str variables\n",
    "        for var in _vars['features']['str'] + _vars['features']['other']:\n",
    "            setattr(self, \"dummy_values_\"+var, [var + \"_\"+ value.replace(\" \", \"_\") for value in df[var].unique().tolist()] + [var+\"_ValueInTestNotInTrain\"])\n",
    "\n",
    "        return self\n"
   ]
  },
  {
   "cell_type": "markdown",
   "metadata": {},
   "source": [
    "# HELPERS FUCNTIONS"
   ]
  },
  {
   "cell_type": "code",
   "execution_count": 24,
   "metadata": {},
   "outputs": [],
   "source": [
    "N = None\n",
    "root = \"/Users/david/Documents/5_UDEM_machine_learning/1_Machine_learning/project/repo/Project_IFT6390/task2/\"  ### to change for other users\n",
    "project_data_path = \"data/\"\n",
    "file_name = 'KaggleV2-May-2016.csv'\n",
    "metrics = ['accuracy']\n",
    "scoring_test = metrics\n",
    "\n",
    "_vars = {\n",
    "    'features': {\n",
    "        'int': ['Age', 'Scholarship', 'Hipertension', 'Diabetes', 'Alcoholism', 'Handcap', 'SMS_received'],\n",
    "        'str': ['Gender'],\n",
    "        'date': ['ScheduledDay', 'AppointmentDay'],\n",
    "        'other': ['Neighbourhood']\n",
    "    },\n",
    "    'label': ['No-show']\n",
    "}\n",
    "\n",
    "param_load_data_pandas_from_csv = {\n",
    "    'function':{\n",
    "        'shuffle': False\n",
    "    },\n",
    "    'data': {\n",
    "        'common':{\n",
    "            'usecols': ['Gender', 'ScheduledDay', 'AppointmentDay', 'Age', 'Neighbourhood', 'Scholarship', 'Hipertension', 'Diabetes', 'Alcoholism', 'Handcap', 'SMS_received', 'No-show'],\n",
    "            'nrows': N,\n",
    "        },\n",
    "        'type_specific':{\n",
    "            'original':{'filepath_or_buffer' :  root + project_data_path + 'original' + '/' + file_name},\n",
    "            'train':{'filepath_or_buffer' :  root + project_data_path + 'train' + '/' + file_name},\n",
    "            'test':{'filepath_or_buffer' :  root + project_data_path + 'test' + '/' + file_name},\n",
    "            'test_unlabel':{\n",
    "                'filepath_or_buffer' :  root + project_data_path + 'test' + '/' + file_name,\n",
    "                'usecols': ['Gender', 'ScheduledDay', 'AppointmentDay', 'Age', 'Neighbourhood', 'Scholarship', 'Hipertension', 'Diabetes', 'Alcoholism', 'Handcap', 'SMS_received'],\n",
    "            }\n",
    "        }\n",
    "    }\n",
    "}\n",
    "\n",
    "########################################\n",
    "######### FUNCTIONS DEFINITIONS ########\n",
    "\n",
    "def load_data_pandas_from_csv(param_data, data_type='train', shuffle=False):\n",
    "    df = None\n",
    "    file_name, ext = os.path.splitext(param_data['type_specific'][data_type]['filepath_or_buffer'])\n",
    "    if ext == '.csv':\n",
    "        df = pd.read_csv(**{**param_data['common'], **param_data['type_specific'][data_type]})\n",
    "    elif ext == '.pkl':\n",
    "        array = np.asarray(np.load(path_data_train, allow_pickle=True), dtype= None).T\n",
    "        df = pd.DataFrame(array, columns=names)[:nrows]\n",
    "\n",
    "    if shuffle == True:\n",
    "        df = df.sample(frac=1, replace=False, random_state=1).reset_index(drop=True)\n",
    "\n",
    "    return df\n",
    "\n",
    "\n",
    "def formatting(data, _vars):\n",
    "    for type, vars in _vars['features'].items():\n",
    "        if type == 'date':\n",
    "            for var in vars:\n",
    "                #datetime format can be easily manipulated for all its components (day, month, year, hour, minute, dayofweek,..)\n",
    "                data[var] = pd.to_datetime(data[var], infer_datetime_format=True)\n",
    "        elif type == 'str':\n",
    "            pass\n",
    "        elif type == 'int':\n",
    "            pass\n",
    "    #label encode target values ( e.g. Yes -> 1, No -> 0 )\n",
    "    for var in _vars['label']:\n",
    "        data[var] = np.ravel(label_binarize(data[var], classes=['No', \"Yes\"]))\n",
    "    return data\n",
    "\n",
    "\n",
    "def plot_confusion_matrix(cm,\n",
    "                          target_names,\n",
    "                          title='Confusion matrix - ',\n",
    "                          cmap=None,\n",
    "                          normalize=True,\n",
    "                         model_name=\"\"):\n",
    "\n",
    "    accuracy = np.trace(cm) / np.sum(cm).astype('float')\n",
    "    misclass = 1 - accuracy\n",
    "\n",
    "    if cmap is None:\n",
    "        cmap = plt.get_cmap('Blues')\n",
    "\n",
    "    plt.imshow(cm, interpolation='nearest', cmap=cmap)\n",
    "    plt.title(title+model_name)\n",
    "    plt.colorbar()\n",
    "\n",
    "    if target_names is not None:\n",
    "        tick_marks = np.arange(len(target_names))\n",
    "        plt.xticks(tick_marks, target_names, rotation=45)\n",
    "        plt.yticks(tick_marks, target_names)\n",
    "\n",
    "    if normalize:\n",
    "        cm = cm.astype('float') / cm.sum(axis=1)[:, np.newaxis]\n",
    "\n",
    "\n",
    "    thresh = cm.max() / 1.5 if normalize else cm.max() / 2\n",
    "    for i, j in itertools.product(range(cm.shape[0]), range(cm.shape[1])):\n",
    "        if normalize:\n",
    "            plt.text(j, i, \"{:0.4f}\".format(cm[i, j]),\n",
    "                     horizontalalignment=\"center\",\n",
    "                     color=\"white\" if cm[i, j] > thresh else \"black\")\n",
    "        else:\n",
    "            plt.text(j, i, \"{:,}\".format(cm[i, j]),\n",
    "                     horizontalalignment=\"center\",\n",
    "                     color=\"white\" if cm[i, j] > thresh else \"black\")\n",
    "\n",
    "    plt.tight_layout()\n",
    "    plt.ylabel('True label')\n",
    "    #plt.xlabel('Predicted label\\naccuracy={:0.4f}; misclass={:0.4f}'.format(accuracy, misclass))\n",
    "    plt.xlabel('Predicted label\\n\\nglobal test accuracy={:0.1%}\\nprecision class 0 (showed-up)={:0.1%}\\nprecision class 1 (no-show)={:0.1%}'.format(accuracy,cm[0,0]/cm[:,0].sum(), cm[1,1]/cm[:,1].sum()))\n",
    "    plt.show()"
   ]
  },
  {
   "cell_type": "markdown",
   "metadata": {},
   "source": [
    "# Load test data"
   ]
  },
  {
   "cell_type": "code",
   "execution_count": 4,
   "metadata": {},
   "outputs": [
    {
     "name": "stdout",
     "output_type": "stream",
     "text": [
      "shape of data_test :(22106, 12)\n"
     ]
    }
   ],
   "source": [
    "data_test = load_data_pandas_from_csv(param_load_data_pandas_from_csv['data'], data_type='test',  **param_load_data_pandas_from_csv['function'])\n",
    "print(\"shape of data_test :{}\".format(data_test.shape))"
   ]
  },
  {
   "cell_type": "code",
   "execution_count": 5,
   "metadata": {},
   "outputs": [],
   "source": [
    "#apply formatting\n",
    "data_test_formatted = formatting(data_test, _vars)\n",
    "\n",
    "#get feature/label names in lists\n",
    "features_test = list(data_test_formatted.columns).copy()\n",
    "label_test = [features_test.pop(features_test.index(lab)) for lab in _vars['label'] if lab in features_test]"
   ]
  },
  {
   "cell_type": "markdown",
   "metadata": {},
   "source": [
    "# PATHS : model"
   ]
  },
  {
   "cell_type": "code",
   "execution_count": 16,
   "metadata": {},
   "outputs": [],
   "source": [
    "#paht for results in csv + model(.joblib) (assuming wrt to a scoring chosen e.g. accuracy)\n",
    "#base_path = '/Users/david/Documents/5_UDEM_machine_learning/1_Machine_learning/project/repo/Project_IFT6390/task2/results/tokeep/'\n",
    "model_selected = 'RF'\n",
    "scoring = 'accuracy'\n",
    "\n",
    "#path = base_path + model_selected + '/'\n",
    "#path_results = path + 'cv_results_' + model_selected + '_' + scoring + '.xlsx' \n",
    "#path_model = \"/Users/david/Documents/5_UDEM_machine_learning/1_Machine_learning/project/repo/Project_IFT6390/task2/model_output/notkeep/\" \\\n",
    "#              + model_selected + '_' + scoring + '.joblib'  #e.g. path/LR_accuracy.joblib"
   ]
  },
  {
   "cell_type": "code",
   "execution_count": 17,
   "metadata": {},
   "outputs": [],
   "source": [
    "model = load(\"./{}_{}.joblib\".format(model_selected, scoring))"
   ]
  },
  {
   "cell_type": "markdown",
   "metadata": {},
   "source": [
    "\n",
    "# PREDICT test data"
   ]
  },
  {
   "cell_type": "code",
   "execution_count": 18,
   "metadata": {},
   "outputs": [],
   "source": [
    "###################### PREDICT #########################\n",
    "pred = model.predict(data_test_formatted[features_test])"
   ]
  },
  {
   "cell_type": "markdown",
   "metadata": {},
   "source": [
    "# Confusion Matrix"
   ]
  },
  {
   "cell_type": "code",
   "execution_count": 34,
   "metadata": {},
   "outputs": [
    {
     "data": {
      "image/png": "[encoded data removed]",
      "text/plain": [
       "<Figure size 432x288 with 2 Axes>"
      ]
     },
     "metadata": {
      "needs_background": "light"
     },
     "output_type": "display_data"
    }
   ],
   "source": [
    "#print(classification_report(data_test_formatted[label_test], pred))\n",
    "labels = [0, 1]\n",
    "cm = confusion_matrix(data_test_formatted[label_test], pred, labels)\n",
    "plot_confusion_matrix(cm,[0,1], normalize=False, model_name = model_selected)"
   ]
  },
  {
   "cell_type": "markdown",
   "metadata": {},
   "source": [
    "# Feature importances"
   ]
  },
  {
   "cell_type": "code",
   "execution_count": 43,
   "metadata": {},
   "outputs": [],
   "source": [
    "label_names = ['show-up', 'no-show']\n",
    "\n",
    "#print(model)\n",
    "#print(model.best_estimator_.named_steps['feat_extractor'].get_feature_names())\n",
    "if model_selected == 'LR':\n",
    "    #print(model.best_estimator_.named_steps['clf'].coef_)\n",
    "    most_important_features = pd.DataFrame({'var': model.best_estimator_.named_steps['feat_extractor'].get_feature_names(),\n",
    "                                          'importance': np.ravel(model.best_estimator_.named_steps['clf'].coef_)})\n",
    "elif model_selected == 'NB':\n",
    "    pass\n",
    "elif model_selected == 'RF':\n",
    "    most_important_features = pd.DataFrame({'var': model.best_estimator_.named_steps['feat_extractor'].get_feature_names(),\n",
    "                                          'importance': np.ravel(model.best_estimator_.named_steps['clf'].feature_importances_)})    \n",
    "    #most_important_features =  model.best_estimator_.named_steps['clf'].feature_importances_\n",
    "    \n",
    "\n",
    "most_important_features['importance_abs'] =   most_important_features['importance'].abs()\n",
    "most_important_features_10 = most_important_features.sort_values('importance_abs', ascending=False).head(10)\n"
   ]
  },
  {
   "cell_type": "code",
   "execution_count": 49,
   "metadata": {},
   "outputs": [
    {
     "data": {
      "image/png": "[encoded data removed]",
      "text/plain": [
       "<Figure size 432x288 with 1 Axes>"
      ]
     },
     "metadata": {
      "needs_background": "light"
     },
     "output_type": "display_data"
    }
   ],
   "source": [
    "if model_selected == 'LR' and model.best_estimator_.named_steps['clf'].coef_.shape[1]==1:\n",
    "    colors = np.array(['b']*most_important_features_10.shape[0])\n",
    "    colors[most_important_features_10['importance'].values<0] = 'r'\n",
    "\n",
    "    labels = np.array(['show-up']*most_important_features_10.shape[0])\n",
    "    labels[most_important_features_10['importance'].values<0] = 'no-show'\n",
    "elif model_selected == 'RF':\n",
    "    colors = np.array(['b']*most_important_features_10.shape[0])\n",
    "    #colors[most_important_features_10['importance'].values<0] = 'r'\n",
    "\n",
    "    labels = np.array(['whatever']*most_important_features_10.shape[0])\n",
    "    #labels[most_important_features_10['importance'].values<0] = 'no-show'\n",
    "\n",
    "for i in range(most_important_features_10['var'].shape[0]):\n",
    "    plt.bar(most_important_features_10['var'].values[i], most_important_features_10['importance_abs'].values[i], color=colors[i], label=labels[i])\n",
    "plt.xticks(rotation=45, ha=\"right\")\n",
    "\n",
    "if model_selected == 'RF':\n",
    "    plt.title('features importance - ' + model_selected +\" (expected node impurity decrease)\")\n",
    "\n",
    "if model_selected == 'LR' and model.best_estimator_.named_steps['clf'].coef_.shape[1]==1:\n",
    "    plt.legend(label_names)\n",
    "\n",
    "plt.show()"
   ]
  }
 ],
 "metadata": {
  "kernelspec": {
   "display_name": "Python 3",
   "language": "python",
   "name": "python3"
  },
  "language_info": {
   "codemirror_mode": {
    "name": "ipython",
    "version": 3
   },
   "file_extension": ".py",
   "mimetype": "text/x-python",
   "name": "python",
   "nbconvert_exporter": "python",
   "pygments_lexer": "ipython3",
   "version": "3.7.0"
  }
 },
 "nbformat": 4,
 "nbformat_minor": 2
}
